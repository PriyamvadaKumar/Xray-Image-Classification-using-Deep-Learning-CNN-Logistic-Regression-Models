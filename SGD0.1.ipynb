{
 "cells": [
  {
   "cell_type": "code",
   "execution_count": 1,
   "metadata": {},
   "outputs": [
    {
     "name": "stderr",
     "output_type": "stream",
     "text": [
      "Using TensorFlow backend.\n"
     ]
    }
   ],
   "source": [
    "#importing libraries\n",
    "import PIL\n",
    "import numpy as np\n",
    "import pandas as pd\n",
    "import matplotlib.pyplot as plt\n",
    "from sklearn.linear_model import LogisticRegression\n",
    "from sklearn import preprocessing\n",
    "from sklearn.model_selection import train_test_split\n",
    "import keras\n",
    "from keras.models import Sequential \n",
    "from keras.layers import Convolution2D ,MaxPooling2D, Flatten, Dense,Dropout\n",
    "from keras.utils import to_categorical\n",
    "from keras.preprocessing import image\n",
    "from keras.preprocessing.image import ImageDataGenerator\n",
    "#from keras.layers import BatchNormalization\n",
    "import shutil\n",
    "import random\n",
    "import os\n",
    "import numpy as np"
   ]
  },
  {
   "cell_type": "code",
   "execution_count": 2,
   "metadata": {},
   "outputs": [
    {
     "name": "stdout",
     "output_type": "stream",
     "text": [
      "Model: \"sequential\"\n",
      "_________________________________________________________________\n",
      "Layer (type)                 Output Shape              Param #   \n",
      "=================================================================\n",
      "conv2d (Conv2D)              (None, 166, 166, 16)      448       \n",
      "_________________________________________________________________\n",
      "max_pooling2d (MaxPooling2D) (None, 83, 83, 16)        0         \n",
      "_________________________________________________________________\n",
      "conv2d_1 (Conv2D)            (None, 27, 27, 32)        4640      \n",
      "_________________________________________________________________\n",
      "max_pooling2d_1 (MaxPooling2 (None, 13, 13, 32)        0         \n",
      "_________________________________________________________________\n",
      "conv2d_2 (Conv2D)            (None, 4, 4, 64)          18496     \n",
      "_________________________________________________________________\n",
      "max_pooling2d_2 (MaxPooling2 (None, 2, 2, 64)          0         \n",
      "_________________________________________________________________\n",
      "flatten (Flatten)            (None, 256)               0         \n",
      "_________________________________________________________________\n",
      "dense (Dense)                (None, 128)               32896     \n",
      "_________________________________________________________________\n",
      "dropout (Dropout)            (None, 128)               0         \n",
      "_________________________________________________________________\n",
      "dense_1 (Dense)              (None, 3)                 387       \n",
      "=================================================================\n",
      "Total params: 56,867\n",
      "Trainable params: 56,867\n",
      "Non-trainable params: 0\n",
      "_________________________________________________________________\n"
     ]
    }
   ],
   "source": [
    "#initialise the CNN model with different layers(used sequential): 3 layers\n",
    "model = Sequential()\n",
    "# Note the input shape is the desired size of the image 300x300 with 3 bytes color\n",
    "# Step 1\n",
    "model.add(Convolution2D(16,3,3, input_shape=(500, 500, 3),activation=\"relu\"))\n",
    "model.add(MaxPooling2D(pool_size=(2,2)))\n",
    "#step 2 Convolution- learn features: put convolution filter on input(5X5) to get tensor output\n",
    "model.add(Convolution2D(32,3,3, activation=\"relu\"))\n",
    "\n",
    "#step 3 Normalize the activations of the previous layer at each batch to increase stability and performance \n",
    "#model.add(BatchNormalization())\n",
    "\n",
    "#step 4 reduce spatial dimension \n",
    "model.add(MaxPooling2D(pool_size =(2,2)))\n",
    "\n",
    "#step 5 learn more features with activation function 'relu'to introduce non-lineraity (& avoid overfitting )\n",
    "model.add(Convolution2D(64, 3, 3, activation = 'relu'))\n",
    "\n",
    "#step 6 reduce spatial dimension\n",
    "model.add(MaxPooling2D(pool_size=(2,2)))\n",
    "\n",
    "#step 7 multidimensional to linear output\n",
    "model.add(Flatten())\n",
    "\n",
    "#step 8 connect every input to every output by weights (dot product)\n",
    "model.add(Dense(128, activation = 'relu'))\n",
    "model.add(Dropout(0.2))\n",
    "model.add(Dense(3, activation = 'softmax'))\n",
    "\n",
    "# to get the summary of the model\n",
    "model.summary()"
   ]
  },
  {
   "cell_type": "code",
   "execution_count": 3,
   "metadata": {},
   "outputs": [],
   "source": [
    "#loss function is default for multi-classification problem  \n",
    "\n",
    "opt = keras.optimizers.SGD(learning_rate=0.1)\n",
    "model.compile(optimizer=opt,loss='categorical_crossentropy', metrics = ['accuracy'])\n",
    "\n"
   ]
  },
  {
   "cell_type": "code",
   "execution_count": 4,
   "metadata": {},
   "outputs": [],
   "source": [
    "#augmentation configuration for training and testing \n",
    "train_datagen = ImageDataGenerator(\n",
    "        rescale=1./255,\n",
    "        shear_range=0.2,\n",
    "        zoom_range=0.2,\n",
    "        horizontal_flip=True)\n",
    "\n",
    "test_datagen = ImageDataGenerator(rescale = 1./255)\n",
    "\n"
   ]
  },
  {
   "cell_type": "code",
   "execution_count": 5,
   "metadata": {},
   "outputs": [
    {
     "name": "stdout",
     "output_type": "stream",
     "text": [
      "Found 2032 images belonging to 3 classes.\n"
     ]
    }
   ],
   "source": [
    "# used this code when I manually put images in folder train under CHEST_xrxay/train.\n",
    "#now has to be done ramdomly with code because manually picking images to train etc is not good\n",
    "# Can comment out if need be\n",
    "#32\n",
    "training_set = train_datagen.flow_from_directory('CHEST_xray/train',\n",
    "                                                target_size = (500, 500),\n",
    "                                                batch_size = 32,\n",
    "                                                class_mode = 'categorical')"
   ]
  },
  {
   "cell_type": "code",
   "execution_count": 7,
   "metadata": {},
   "outputs": [
    {
     "name": "stdout",
     "output_type": "stream",
     "text": [
      "Found 726 images belonging to 3 classes.\n"
     ]
    }
   ],
   "source": [
    "#used this code when I manually put images in folder train under CHEST_xrxay/validate\n",
    "#now has to be done ramdomly with code because manually picking images is not good\n",
    "# Can comment out if need be\n",
    "validation_set = test_datagen.flow_from_directory('CHEST_xray/validate',\n",
    "                                                target_size = (500, 500),\n",
    "                                                batch_size = 32,\n",
    "                                                class_mode = 'categorical')"
   ]
  },
  {
   "cell_type": "code",
   "execution_count": 8,
   "metadata": {},
   "outputs": [
    {
     "name": "stdout",
     "output_type": "stream",
     "text": [
      "WARNING:tensorflow:From <ipython-input-8-e3d283b9505c>:1: Model.fit_generator (from tensorflow.python.keras.engine.training) is deprecated and will be removed in a future version.\n",
      "Instructions for updating:\n",
      "Please use Model.fit, which supports generators.\n",
      "Epoch 1/30\n",
      "62/62 [==============================] - 140s 2s/step - loss: 0.9250 - accuracy: 0.4832 - val_loss: 0.8745 - val_accuracy: 0.4697\n",
      "Epoch 2/30\n",
      "62/62 [==============================] - 138s 2s/step - loss: 0.8683 - accuracy: 0.5498 - val_loss: 0.8340 - val_accuracy: 0.4738\n",
      "Epoch 3/30\n",
      "62/62 [==============================] - 179s 3s/step - loss: 0.8341 - accuracy: 0.6072 - val_loss: 0.6720 - val_accuracy: 0.6708\n",
      "Epoch 4/30\n",
      "62/62 [==============================] - 145s 2s/step - loss: 0.7541 - accuracy: 0.6397 - val_loss: 0.9088 - val_accuracy: 0.4614\n",
      "Epoch 5/30\n",
      "62/62 [==============================] - 144s 2s/step - loss: 0.7851 - accuracy: 0.6286 - val_loss: 0.6743 - val_accuracy: 0.6791\n",
      "Epoch 6/30\n",
      "62/62 [==============================] - 141s 2s/step - loss: 0.6450 - accuracy: 0.7246 - val_loss: 0.4478 - val_accuracy: 0.8388\n",
      "Epoch 7/30\n",
      "62/62 [==============================] - 138s 2s/step - loss: 0.5824 - accuracy: 0.7576 - val_loss: 0.4123 - val_accuracy: 0.8471\n",
      "Epoch 8/30\n",
      "62/62 [==============================] - 230s 4s/step - loss: 0.5497 - accuracy: 0.7800 - val_loss: 0.4633 - val_accuracy: 0.8182\n",
      "Epoch 9/30\n",
      "62/62 [==============================] - 140s 2s/step - loss: 0.5509 - accuracy: 0.7830 - val_loss: 0.3742 - val_accuracy: 0.8678\n",
      "Epoch 10/30\n",
      "62/62 [==============================] - 348s 6s/step - loss: 0.5244 - accuracy: 0.7922 - val_loss: 0.3318 - val_accuracy: 0.8857\n",
      "Epoch 11/30\n",
      "62/62 [==============================] - 138s 2s/step - loss: 0.5179 - accuracy: 0.7790 - val_loss: 0.3301 - val_accuracy: 0.8802\n",
      "Epoch 12/30\n",
      "62/62 [==============================] - 142s 2s/step - loss: 0.4715 - accuracy: 0.8079 - val_loss: 0.3210 - val_accuracy: 0.8871\n",
      "Epoch 13/30\n",
      "62/62 [==============================] - 140s 2s/step - loss: 0.4573 - accuracy: 0.8186 - val_loss: 0.3322 - val_accuracy: 0.8953\n",
      "Epoch 14/30\n",
      "62/62 [==============================] - 140s 2s/step - loss: 0.4127 - accuracy: 0.8267 - val_loss: 0.2820 - val_accuracy: 0.8994\n",
      "Epoch 15/30\n",
      "62/62 [==============================] - 137s 2s/step - loss: 0.3819 - accuracy: 0.8572 - val_loss: 0.2931 - val_accuracy: 0.8705\n",
      "Epoch 16/30\n",
      "62/62 [==============================] - 1760s 28s/step - loss: 0.4134 - accuracy: 0.8377 - val_loss: 0.3116 - val_accuracy: 0.8871\n",
      "Epoch 17/30\n",
      "62/62 [==============================] - 150s 2s/step - loss: 0.3829 - accuracy: 0.8486 - val_loss: 0.2726 - val_accuracy: 0.8953\n",
      "Epoch 18/30\n",
      "62/62 [==============================] - 141s 2s/step - loss: 0.3993 - accuracy: 0.8481 - val_loss: 0.3773 - val_accuracy: 0.8554\n",
      "Epoch 19/30\n",
      "62/62 [==============================] - 139s 2s/step - loss: 0.3517 - accuracy: 0.8547 - val_loss: 0.2781 - val_accuracy: 0.8953\n",
      "Epoch 20/30\n",
      "62/62 [==============================] - 139s 2s/step - loss: 0.3582 - accuracy: 0.8628 - val_loss: 0.2528 - val_accuracy: 0.9063\n",
      "Epoch 21/30\n",
      "62/62 [==============================] - 138s 2s/step - loss: 0.3392 - accuracy: 0.8674 - val_loss: 0.2553 - val_accuracy: 0.9063\n",
      "Epoch 22/30\n",
      "62/62 [==============================] - 157s 3s/step - loss: 0.3271 - accuracy: 0.8801 - val_loss: 0.2482 - val_accuracy: 0.9105\n",
      "Epoch 23/30\n",
      "62/62 [==============================] - 238s 4s/step - loss: 0.3914 - accuracy: 0.8542 - val_loss: 0.2438 - val_accuracy: 0.9174\n",
      "Epoch 24/30\n",
      "62/62 [==============================] - 138s 2s/step - loss: 0.3116 - accuracy: 0.8720 - val_loss: 0.3304 - val_accuracy: 0.8733\n",
      "Epoch 25/30\n",
      "62/62 [==============================] - 137s 2s/step - loss: 0.3267 - accuracy: 0.8740 - val_loss: 0.2499 - val_accuracy: 0.9105\n",
      "Epoch 26/30\n",
      "62/62 [==============================] - 184s 3s/step - loss: 0.3008 - accuracy: 0.8892 - val_loss: 0.3538 - val_accuracy: 0.8733\n",
      "Epoch 27/30\n",
      "62/62 [==============================] - 139s 2s/step - loss: 0.2992 - accuracy: 0.8775 - val_loss: 0.2397 - val_accuracy: 0.9118\n",
      "Epoch 28/30\n",
      "62/62 [==============================] - 140s 2s/step - loss: 0.3075 - accuracy: 0.8821 - val_loss: 0.2331 - val_accuracy: 0.9229\n",
      "Epoch 29/30\n",
      "62/62 [==============================] - 140s 2s/step - loss: 0.2937 - accuracy: 0.8913 - val_loss: 0.3080 - val_accuracy: 0.8898\n",
      "Epoch 30/30\n",
      "62/62 [==============================] - 138s 2s/step - loss: 0.2935 - accuracy: 0.8958 - val_loss: 0.2787 - val_accuracy: 0.9008\n"
     ]
    }
   ],
   "source": [
    "history=model.fit_generator(training_set,epochs =30,steps_per_epoch=62 ,validation_data = validation_set)"
   ]
  },
  {
   "cell_type": "code",
   "execution_count": 9,
   "metadata": {},
   "outputs": [
    {
     "data": {
      "image/png": "[encoded data removed]",
      "text/plain": [
       "<Figure size 432x288 with 1 Axes>"
      ]
     },
     "metadata": {
      "needs_background": "light"
     },
     "output_type": "display_data"
    },
    {
     "data": {
      "image/png": "[encoded data removed]",
      "text/plain": [
       "<Figure size 432x288 with 1 Axes>"
      ]
     },
     "metadata": {
      "needs_background": "light"
     },
     "output_type": "display_data"
    }
   ],
   "source": [
    "#validation set :Its purpose is to track progress through validation loss and accuracy.\n",
    "# plot accuracy\n",
    "plt.plot(history.history['accuracy'])\n",
    "plt.plot(history.history['val_accuracy'])\n",
    "plt.title('model accuracy')\n",
    "plt.ylabel('accuracy')\n",
    "plt.xlabel('epoch')\n",
    "plt.legend(['train', 'val'], loc='upper left')\n",
    "plt.show()\n",
    "# plot loss\n",
    "plt.plot(history.history['loss'])\n",
    "plt.plot(history.history['val_loss'])\n",
    "plt.title('model loss')\n",
    "plt.ylabel('loss')\n",
    "plt.xlabel('epoch')\n",
    "plt.legend(['train', 'val'], loc='upper left')\n",
    "plt.show()"
   ]
  },
  {
   "cell_type": "code",
   "execution_count": 10,
   "metadata": {},
   "outputs": [
    {
     "name": "stdout",
     "output_type": "stream",
     "text": [
      "Found 147 images belonging to 3 classes.\n"
     ]
    }
   ],
   "source": [
    "test_set = test_datagen.flow_from_directory('CHEST_xray/test',\n",
    "                                                target_size = (500, 500),\n",
    "                                                batch_size = 32,\n",
    "                                                class_mode = 'categorical', shuffle= False)\n",
    "\n"
   ]
  },
  {
   "cell_type": "code",
   "execution_count": null,
   "metadata": {},
   "outputs": [],
   "source": []
  },
  {
   "cell_type": "code",
   "execution_count": null,
   "metadata": {},
   "outputs": [],
   "source": []
  },
  {
   "cell_type": "code",
   "execution_count": 12,
   "metadata": {},
   "outputs": [
    {
     "name": "stdout",
     "output_type": "stream",
     "text": [
      "11\n",
      "68\n",
      "68\n",
      "144\n",
      "144\n",
      "11 65 68\n",
      "0.6805555555555556\n",
      "0.46244181883279634\n",
      "0.48853695324283564\n",
      "[[36 29  0]\n",
      " [ 6 62  0]\n",
      " [ 7  4  0]]\n"
     ]
    }
   ],
   "source": [
    "#224\n",
    "from sklearn.metrics import confusion_matrix\n",
    "from sklearn.metrics import accuracy_score\n",
    "#from sklearn.metrics import average_precision_score\n",
    "from sklearn.metrics import precision_score\n",
    "from sklearn.metrics import recall_score\n",
    "from sklearn.metrics import roc_auc_score\n",
    "#from sklearn.metrics import roc_auc\n",
    "from sklearn.metrics import auc\n",
    "subfolders=[\"covid\", \"normal\", \"viral_pneumonia\"]\n",
    "\n",
    "# loop over images/files in the subfolders of the test folder\n",
    "#actual_list=[]\n",
    "prediction_list=[]\n",
    "count_covid=0\n",
    "count_normal=0\n",
    "count_viral_pneumonia=0\n",
    "for actual in subfolders:\n",
    "    src_dir='CHEST_xray/test/'+actual\n",
    "    files=os.listdir(src_dir) \n",
    "    print(len(files))\n",
    "    \n",
    "    \n",
    "    \n",
    "    for file in files:\n",
    "        if file !=\"Thumbs.db\":\n",
    "            \n",
    "\n",
    "            \n",
    "                \n",
    "            src_file_path=os.path.join(src_dir, file)\n",
    "            #print(src_file_path)\n",
    "            test_image = image.load_img(src_file_path, target_size = (500, 500))\n",
    "            test_image = image.img_to_array(test_image)\n",
    "            test_image = np.expand_dims(test_image, axis = 0)\n",
    "            result = model.predict(test_image)\n",
    "            #print(result)\n",
    "            training_set.class_indices\n",
    "            #capturing prediction in an array\n",
    "            if int(result[0][0])==1:\n",
    "                prediction = 'Covid'\n",
    "                prediction_list.append(2)\n",
    "                               \n",
    "            \n",
    "            elif int(result[0][1])==1:\n",
    "                prediction = 'Normal'\n",
    "                prediction_list.append(0)\n",
    "                \n",
    "                \n",
    "         \n",
    "                \n",
    "            elif int(result[0][2])==1:\n",
    "                \n",
    "                prediction = 'Viral Pneumonia'\n",
    "                prediction_list.append(1)\n",
    " \n",
    "            else:\n",
    "                continue\n",
    "                        # capturing actual in an array    \n",
    "            if actual==\"covid\":\n",
    "          \n",
    "                count_covid +=1\n",
    "            \n",
    "            elif actual==\"normal\":\n",
    "         \n",
    "                count_normal +=1\n",
    "           \n",
    "            elif actual==\"viral_pneumonia\":\n",
    "                count_viral_pneumonia +=1\n",
    "      \n",
    "            \n",
    "\n",
    "actual_list=[2]*count_covid+[0]*count_normal+[1]*count_viral_pneumonia\n",
    "print(len(actual_list))\n",
    "print(len(prediction_list))\n",
    "print(count_covid, count_normal, count_viral_pneumonia)\n",
    "# calculate metrics\n",
    "print(accuracy_score(actual_list, prediction_list))\n",
    "print(precision_score (actual_list, prediction_list, average= 'macro'))\n",
    "print(recall_score (actual_list, prediction_list, average='macro'))\n",
    "#print(roc_auc_score (actual_list, prediction_list, average='None')) \n",
    "print(confusion_matrix(actual_list, prediction_list)) \n",
    "\n",
    "\n",
    "#print(confusion_matrix (actual_list, prediction_list))    "
   ]
  },
  {
   "cell_type": "code",
   "execution_count": null,
   "metadata": {},
   "outputs": [],
   "source": []
  }
 ],
 "metadata": {
  "kernelspec": {
   "display_name": "Python 3",
   "language": "python",
   "name": "python3"
  },
  "language_info": {
   "codemirror_mode": {
    "name": "ipython",
    "version": 3
   },
   "file_extension": ".py",
   "mimetype": "text/x-python",
   "name": "python",
   "nbconvert_exporter": "python",
   "pygments_lexer": "ipython3",
   "version": "3.7.6"
  }
 },
 "nbformat": 4,
 "nbformat_minor": 4
}
