{
 "cells": [
  {
   "cell_type": "code",
   "execution_count": null,
   "metadata": {},
   "outputs": [],
   "source": [
    "#importing libraries\n",
    "import PIL\n",
    "import numpy as np\n",
    "import pandas as pd\n",
    "import matplotlib.pyplot as plt\n",
    "from sklearn.linear_model import LogisticRegression\n",
    "from sklearn import preprocessing\n",
    "from sklearn.model_selection import train_test_split\n",
    "import keras\n",
    "from keras.models import Sequential \n",
    "from keras.layers import Convolution2D ,MaxPooling2D, Flatten, Dense,Dropout\n",
    "from keras.utils import to_categorical\n",
    "from keras.preprocessing import image\n",
    "from keras.preprocessing.image import ImageDataGenerator\n",
    "#from keras.layers import BatchNormalization"
   ]
  },
  {
   "cell_type": "code",
   "execution_count": null,
   "metadata": {},
   "outputs": [],
   "source": [
    "#initialise the CNN model with different layers(used sequential): 3 layers\n",
    "model = Sequential()\n",
    "# Note the input shape is the desired size of the image 300x300 with 3 bytes color\n",
    "# Step 1\n",
    "model.add(Convolution2D(16,3,3, input_shape=(300, 300, 3),activation=\"relu\"))\n",
    "model.add(MaxPooling2D(pool_size=(2,2)))\n",
    "#step 2 Convolution- learn features: put convolution filter on input(5X5) to get tensor output\n",
    "model.add(Convolution2D(32,3,3, activation=\"relu\"))\n",
    "\n",
    "#step 3 Normalize the activations of the previous layer at each batch to increase stability and performance \n",
    "#model.add(BatchNormalization())\n",
    "\n",
    "#step 4 reduce spatial dimension \n",
    "model.add(MaxPooling2D(pool_size =(2,2)))\n",
    "\n",
    "#step 5 learn more features with activation function 'relu'to introduce non-lineraity (& avoid overfitting )\n",
    "model.add(Convolution2D(64, 3, 3, activation = 'relu'))\n",
    "\n",
    "#step 6 reduce spatial dimension\n",
    "model.add(MaxPooling2D(pool_size=(2,2)))\n",
    "\n",
    "#step 7 multidimensional to linear output\n",
    "model.add(Flatten())\n",
    "\n",
    "#step 8 connect every input to every output by weights (dot product)\n",
    "model.add(Dense(128, activation = 'relu'))\n",
    "model.add(Dropout(0.2))\n",
    "model.add(Dense(3, activation = 'softmax'))"
   ]
  },
  {
   "cell_type": "code",
   "execution_count": null,
   "metadata": {},
   "outputs": [],
   "source": [
    "#loss function is default for multi-classification problem  \n",
    "opt = keras.optimizers.Adam(learning_rate=0.01)\n",
    "model.compile(optimizer=opt,loss='categorical_crossentropy', metrics = ['accuracy'])\n",
    "\n"
   ]
  }
 ],
 "metadata": {
  "kernelspec": {
   "display_name": "Python 3",
   "language": "python",
   "name": "python3"
  },
  "language_info": {
   "codemirror_mode": {
    "name": "ipython",
    "version": 3
   },
   "file_extension": ".py",
   "mimetype": "text/x-python",
   "name": "python",
   "nbconvert_exporter": "python",
   "pygments_lexer": "ipython3",
   "version": "3.7.6"
  }
 },
 "nbformat": 4,
 "nbformat_minor": 4
}
